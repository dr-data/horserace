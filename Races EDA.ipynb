{
 "cells": [
  {
   "cell_type": "markdown",
   "metadata": {},
   "source": [
    "# HK Jockey Club Races Analysis\n",
    "\n",
    "Horse racing is a popular and legal gambling activity in HK. It would be interesting to see if one can get any value out of its data."
   ]
  },
  {
   "cell_type": "code",
   "execution_count": 9,
   "metadata": {
    "collapsed": false
   },
   "outputs": [
    {
     "data": {
      "text/html": [
       "<div>\n",
       "<table border=\"1\" class=\"dataframe\">\n",
       "  <thead>\n",
       "    <tr style=\"text-align: right;\">\n",
       "      <th></th>\n",
       "      <th>race_id</th>\n",
       "      <th>date</th>\n",
       "      <th>venue</th>\n",
       "      <th>race_no</th>\n",
       "      <th>config</th>\n",
       "      <th>surface</th>\n",
       "      <th>distance</th>\n",
       "      <th>going</th>\n",
       "      <th>horse_ratings</th>\n",
       "      <th>prize</th>\n",
       "      <th>...</th>\n",
       "      <th>place_combination3</th>\n",
       "      <th>place_combination4</th>\n",
       "      <th>place_dividend1</th>\n",
       "      <th>place_dividend2</th>\n",
       "      <th>place_dividend3</th>\n",
       "      <th>place_dividend4</th>\n",
       "      <th>win_combination1</th>\n",
       "      <th>win_dividend1</th>\n",
       "      <th>win_combination2</th>\n",
       "      <th>win_dividend2</th>\n",
       "    </tr>\n",
       "  </thead>\n",
       "  <tbody>\n",
       "    <tr>\n",
       "      <th>0</th>\n",
       "      <td>0</td>\n",
       "      <td>1997-06-02</td>\n",
       "      <td>ST</td>\n",
       "      <td>1</td>\n",
       "      <td>A</td>\n",
       "      <td>0</td>\n",
       "      <td>1400</td>\n",
       "      <td>GOOD TO FIRM</td>\n",
       "      <td>40-15</td>\n",
       "      <td>485000.0</td>\n",
       "      <td>...</td>\n",
       "      <td>6.0</td>\n",
       "      <td>NaN</td>\n",
       "      <td>36.5</td>\n",
       "      <td>25.5</td>\n",
       "      <td>18.0</td>\n",
       "      <td>NaN</td>\n",
       "      <td>8</td>\n",
       "      <td>121.0</td>\n",
       "      <td>NaN</td>\n",
       "      <td>NaN</td>\n",
       "    </tr>\n",
       "    <tr>\n",
       "      <th>1</th>\n",
       "      <td>1</td>\n",
       "      <td>1997-06-02</td>\n",
       "      <td>ST</td>\n",
       "      <td>2</td>\n",
       "      <td>A</td>\n",
       "      <td>0</td>\n",
       "      <td>1200</td>\n",
       "      <td>GOOD TO FIRM</td>\n",
       "      <td>40-15</td>\n",
       "      <td>485000.0</td>\n",
       "      <td>...</td>\n",
       "      <td>4.0</td>\n",
       "      <td>NaN</td>\n",
       "      <td>12.5</td>\n",
       "      <td>47.0</td>\n",
       "      <td>33.5</td>\n",
       "      <td>NaN</td>\n",
       "      <td>5</td>\n",
       "      <td>23.5</td>\n",
       "      <td>NaN</td>\n",
       "      <td>NaN</td>\n",
       "    </tr>\n",
       "  </tbody>\n",
       "</table>\n",
       "<p>2 rows × 37 columns</p>\n",
       "</div>"
      ],
      "text/plain": [
       "   race_id        date venue  race_no config  surface  distance         going  \\\n",
       "0        0  1997-06-02    ST        1      A        0      1400  GOOD TO FIRM   \n",
       "1        1  1997-06-02    ST        2      A        0      1200  GOOD TO FIRM   \n",
       "\n",
       "  horse_ratings     prize      ...        place_combination3  \\\n",
       "0         40-15  485000.0      ...                       6.0   \n",
       "1         40-15  485000.0      ...                       4.0   \n",
       "\n",
       "   place_combination4  place_dividend1  place_dividend2  place_dividend3  \\\n",
       "0                 NaN             36.5             25.5             18.0   \n",
       "1                 NaN             12.5             47.0             33.5   \n",
       "\n",
       "   place_dividend4  win_combination1  win_dividend1  win_combination2  \\\n",
       "0              NaN                 8          121.0               NaN   \n",
       "1              NaN                 5           23.5               NaN   \n",
       "\n",
       "   win_dividend2  \n",
       "0            NaN  \n",
       "1            NaN  \n",
       "\n",
       "[2 rows x 37 columns]"
      ]
     },
     "execution_count": 9,
     "metadata": {},
     "output_type": "execute_result"
    }
   ],
   "source": [
    "import pandas as pd\n",
    "import numpy as np\n",
    "import matplotlib.pyplot as plt\n",
    "import seaborn as sns\n",
    "from __future__ import division\n",
    "%matplotlib inline\n",
    "\n",
    "race = pd.read_csv('races.csv')\n",
    "race.head(2)"
   ]
  },
  {
   "cell_type": "code",
   "execution_count": 2,
   "metadata": {
    "collapsed": false
   },
   "outputs": [
    {
     "name": "stdout",
     "output_type": "stream",
     "text": [
      "<class 'pandas.core.frame.DataFrame'>\n",
      "RangeIndex: 6349 entries, 0 to 6348\n",
      "Data columns (total 37 columns):\n",
      "race_id               6349 non-null int64\n",
      "date                  6349 non-null object\n",
      "venue                 6349 non-null object\n",
      "race_no               6349 non-null int64\n",
      "config                6349 non-null object\n",
      "surface               6349 non-null int64\n",
      "distance              6349 non-null int64\n",
      "going                 6349 non-null object\n",
      "horse_ratings         6349 non-null object\n",
      "prize                 5887 non-null float64\n",
      "race_class            6349 non-null int64\n",
      "sec_time1             6349 non-null float64\n",
      "sec_time2             6349 non-null float64\n",
      "sec_time3             6349 non-null float64\n",
      "sec_time4             3634 non-null float64\n",
      "sec_time5             821 non-null float64\n",
      "sec_time6             115 non-null float64\n",
      "sec_time7             0 non-null float64\n",
      "time1                 6349 non-null float64\n",
      "time2                 6349 non-null float64\n",
      "time3                 6349 non-null float64\n",
      "time4                 3634 non-null float64\n",
      "time5                 821 non-null float64\n",
      "time6                 115 non-null float64\n",
      "time7                 0 non-null float64\n",
      "place_combination1    6349 non-null int64\n",
      "place_combination2    6349 non-null int64\n",
      "place_combination3    6324 non-null float64\n",
      "place_combination4    23 non-null float64\n",
      "place_dividend1       6349 non-null float64\n",
      "place_dividend2       6349 non-null float64\n",
      "place_dividend3       6324 non-null float64\n",
      "place_dividend4       23 non-null float64\n",
      "win_combination1      6349 non-null int64\n",
      "win_dividend1         6349 non-null float64\n",
      "win_combination2      12 non-null float64\n",
      "win_dividend2         12 non-null float64\n",
      "dtypes: float64(24), int64(8), object(5)\n",
      "memory usage: 1.8+ MB\n"
     ]
    }
   ],
   "source": [
    "race.info()"
   ]
  },
  {
   "cell_type": "code",
   "execution_count": 3,
   "metadata": {
    "collapsed": false
   },
   "outputs": [
    {
     "data": {
      "text/plain": [
       "A      2209\n",
       "C      1174\n",
       "C+3     984\n",
       "B       819\n",
       "B+2     600\n",
       "A+3     563\n",
       "Name: config, dtype: int64"
      ]
     },
     "execution_count": 3,
     "metadata": {},
     "output_type": "execute_result"
    }
   ],
   "source": [
    "race['config'].value_counts()"
   ]
  },
  {
   "cell_type": "code",
   "execution_count": 4,
   "metadata": {
    "collapsed": false
   },
   "outputs": [
    {
     "data": {
      "text/plain": [
       "0    5656\n",
       "1     693\n",
       "Name: surface, dtype: int64"
      ]
     },
     "execution_count": 4,
     "metadata": {},
     "output_type": "execute_result"
    }
   ],
   "source": [
    "race['surface'].value_counts()"
   ]
  },
  {
   "cell_type": "code",
   "execution_count": 5,
   "metadata": {
    "collapsed": false
   },
   "outputs": [
    {
     "data": {
      "text/plain": [
       "1200    2017\n",
       "1650    1095\n",
       "1400    1081\n",
       "1000     698\n",
       "1600     637\n",
       "1800     589\n",
       "2000     117\n",
       "2200      90\n",
       "2400      25\n",
       "Name: distance, dtype: int64"
      ]
     },
     "execution_count": 5,
     "metadata": {},
     "output_type": "execute_result"
    }
   ],
   "source": [
    "race['distance'].value_counts()"
   ]
  },
  {
   "cell_type": "code",
   "execution_count": 6,
   "metadata": {
    "collapsed": false
   },
   "outputs": [
    {
     "data": {
      "text/plain": [
       "GOOD                4123\n",
       "GOOD TO FIRM        1613\n",
       "GOOD TO YIELDING     333\n",
       "YIELDING              86\n",
       "FAST                  70\n",
       "WET SLOW              61\n",
       "WET FAST              20\n",
       "SLOW                  15\n",
       "YIELDING TO SOFT      14\n",
       "SOFT                  14\n",
       "Name: going, dtype: int64"
      ]
     },
     "execution_count": 6,
     "metadata": {},
     "output_type": "execute_result"
    }
   ],
   "source": [
    "race['going'].value_counts()"
   ]
  },
  {
   "cell_type": "code",
   "execution_count": 7,
   "metadata": {
    "collapsed": false
   },
   "outputs": [
    {
     "data": {
      "text/plain": [
       "60-40      2196\n",
       "80-60      1786\n",
       "40-15       409\n",
       "100-80      407\n",
       "G           312\n",
       "40-0        271\n",
       "85-60       193\n",
       "40-10       189\n",
       "105-80      154\n",
       "65-40        62\n",
       "95-75        56\n",
       "110-85       46\n",
       "115-90       38\n",
       "60-35        37\n",
       "90+          31\n",
       "95+          24\n",
       "40-20        23\n",
       "110-90       21\n",
       "90-70        21\n",
       "80-55        13\n",
       "115-95       11\n",
       "100-75       10\n",
       "100+         10\n",
       "120-95        9\n",
       "80+           5\n",
       "75-55         4\n",
       "120-100       4\n",
       "85+           3\n",
       "105-85        2\n",
       "110-80        1\n",
       "95-70         1\n",
       "Name: horse_ratings, dtype: int64"
      ]
     },
     "execution_count": 7,
     "metadata": {},
     "output_type": "execute_result"
    }
   ],
   "source": [
    "race['horse_ratings'].value_counts()"
   ]
  },
  {
   "cell_type": "code",
   "execution_count": 24,
   "metadata": {
    "collapsed": false
   },
   "outputs": [
    {
     "data": {
      "image/png": "[encoded data removed]",
      "text/plain": [
       "<matplotlib.figure.Figure at 0x1173a8050>"
      ]
     },
     "metadata": {},
     "output_type": "display_data"
    }
   ],
   "source": [
    "race['place_combination1'].hist(bins = np.linspace(0.5,15.5,16))\n",
    "plt.show()"
   ]
  },
  {
   "cell_type": "code",
   "execution_count": 35,
   "metadata": {
    "collapsed": false
   },
   "outputs": [
    {
     "data": {
      "text/html": [
       "<div>\n",
       "<table border=\"1\" class=\"dataframe\">\n",
       "  <thead>\n",
       "    <tr style=\"text-align: right;\">\n",
       "      <th></th>\n",
       "      <th>place_combination1</th>\n",
       "      <th>place_combination2</th>\n",
       "      <th>place_combination3</th>\n",
       "    </tr>\n",
       "  </thead>\n",
       "  <tbody>\n",
       "    <tr>\n",
       "      <th>50</th>\n",
       "      <td>6</td>\n",
       "      <td>8</td>\n",
       "      <td>3.0</td>\n",
       "    </tr>\n",
       "    <tr>\n",
       "      <th>1953</th>\n",
       "      <td>7</td>\n",
       "      <td>11</td>\n",
       "      <td>12.0</td>\n",
       "    </tr>\n",
       "    <tr>\n",
       "      <th>3664</th>\n",
       "      <td>3</td>\n",
       "      <td>5</td>\n",
       "      <td>9.0</td>\n",
       "    </tr>\n",
       "    <tr>\n",
       "      <th>3666</th>\n",
       "      <td>4</td>\n",
       "      <td>1</td>\n",
       "      <td>2.0</td>\n",
       "    </tr>\n",
       "    <tr>\n",
       "      <th>4410</th>\n",
       "      <td>7</td>\n",
       "      <td>3</td>\n",
       "      <td>4.0</td>\n",
       "    </tr>\n",
       "    <tr>\n",
       "      <th>4898</th>\n",
       "      <td>4</td>\n",
       "      <td>9</td>\n",
       "      <td>1.0</td>\n",
       "    </tr>\n",
       "  </tbody>\n",
       "</table>\n",
       "</div>"
      ],
      "text/plain": [
       "      place_combination1  place_combination2  place_combination3\n",
       "50                     6                   8                 3.0\n",
       "1953                   7                  11                12.0\n",
       "3664                   3                   5                 9.0\n",
       "3666                   4                   1                 2.0\n",
       "4410                   7                   3                 4.0\n",
       "4898                   4                   9                 1.0"
      ]
     },
     "execution_count": 35,
     "metadata": {},
     "output_type": "execute_result"
    }
   ],
   "source": [
    "race.ix[race['win_combination1'] != race['place_combination1'],['place_combination1','place_combination2','place_combination3']]"
   ]
  },
  {
   "cell_type": "code",
   "execution_count": 30,
   "metadata": {
    "collapsed": false
   },
   "outputs": [
    {
     "data": {
      "text/plain": [
       "50       3\n",
       "1953    12\n",
       "3664     9\n",
       "3666     2\n",
       "4410     4\n",
       "4898     1\n",
       "Name: win_combination1, dtype: int64"
      ]
     },
     "execution_count": 30,
     "metadata": {},
     "output_type": "execute_result"
    }
   ],
   "source": [
    "race[race['win_combination1'] != race['place_combination1']]['win_combination1']"
   ]
  },
  {
   "cell_type": "code",
   "execution_count": 31,
   "metadata": {
    "collapsed": false
   },
   "outputs": [
    {
     "data": {
      "text/plain": [
       "50       8\n",
       "1953    11\n",
       "3664     5\n",
       "3666     1\n",
       "4410     3\n",
       "4898     9\n",
       "Name: place_combination2, dtype: int64"
      ]
     },
     "execution_count": 31,
     "metadata": {},
     "output_type": "execute_result"
    }
   ],
   "source": [
    "race[race['win_combination1'] != race['place_combination1']]['place_combination2']"
   ]
  },
  {
   "cell_type": "code",
   "execution_count": 32,
   "metadata": {
    "collapsed": false
   },
   "outputs": [
    {
     "data": {
      "text/plain": [
       "50     NaN\n",
       "1953   NaN\n",
       "3664   NaN\n",
       "3666   NaN\n",
       "4410   NaN\n",
       "4898   NaN\n",
       "Name: win_combination2, dtype: float64"
      ]
     },
     "execution_count": 32,
     "metadata": {},
     "output_type": "execute_result"
    }
   ],
   "source": []
  },
  {
   "cell_type": "code",
   "execution_count": 39,
   "metadata": {
    "collapsed": false
   },
   "outputs": [
    {
     "data": {
      "text/plain": [
       "array([[<matplotlib.axes._subplots.AxesSubplot object at 0x117e01690>,\n",
       "        <matplotlib.axes._subplots.AxesSubplot object at 0x1176ad1d0>]], dtype=object)"
      ]
     },
     "execution_count": 39,
     "metadata": {},
     "output_type": "execute_result"
    },
    {
     "data": {
      "image/png": "[encoded data removed]",
      "text/plain": [
       "<matplotlib.figure.Figure at 0x117f06f90>"
      ]
     },
     "metadata": {},
     "output_type": "display_data"
    }
   ],
   "source": [
    "race[['place_combination1','place_combination2']].hist(bins=np.linspace(0.5,14.5,15))"
   ]
  },
  {
   "cell_type": "code",
   "execution_count": 46,
   "metadata": {
    "collapsed": false
   },
   "outputs": [],
   "source": [
    "place_lst = pd.concat([race['place_combination1'], race['place_combination2'], race['place_combination3']])"
   ]
  },
  {
   "cell_type": "code",
   "execution_count": 59,
   "metadata": {
    "collapsed": false
   },
   "outputs": [
    {
     "data": {
      "image/png": "[encoded data removed]",
      "text/plain": [
       "<matplotlib.figure.Figure at 0x118c00490>"
      ]
     },
     "metadata": {},
     "output_type": "display_data"
    }
   ],
   "source": [
    "fig = plt.figure(figsize=[10,7])\n",
    "ax = fig.add_subplot(111)\n",
    "ax.hist(place_lst, bins=np.linspace(0.5,14.5,15))\n",
    "plt.show()"
   ]
  },
  {
   "cell_type": "code",
   "execution_count": 56,
   "metadata": {
    "collapsed": false
   },
   "outputs": [
    {
     "data": {
      "text/plain": [
       "False"
      ]
     },
     "execution_count": 56,
     "metadata": {},
     "output_type": "execute_result"
    }
   ],
   "source": [
    "all(place_lst.notnull())"
   ]
  },
  {
   "cell_type": "code",
   "execution_count": 58,
   "metadata": {
    "collapsed": false
   },
   "outputs": [],
   "source": [
    "place_lst.dropna(inplace=True)"
   ]
  },
  {
   "cell_type": "code",
   "execution_count": 62,
   "metadata": {
    "collapsed": false
   },
   "outputs": [
    {
     "data": {
      "text/html": [
       "<div>\n",
       "<table border=\"1\" class=\"dataframe\">\n",
       "  <thead>\n",
       "    <tr style=\"text-align: right;\">\n",
       "      <th></th>\n",
       "      <th>time1</th>\n",
       "    </tr>\n",
       "    <tr>\n",
       "      <th>distance</th>\n",
       "      <th></th>\n",
       "    </tr>\n",
       "  </thead>\n",
       "  <tbody>\n",
       "    <tr>\n",
       "      <th>1000</th>\n",
       "      <td>13.05</td>\n",
       "    </tr>\n",
       "    <tr>\n",
       "      <th>1200</th>\n",
       "      <td>23.84</td>\n",
       "    </tr>\n",
       "    <tr>\n",
       "      <th>1400</th>\n",
       "      <td>13.61</td>\n",
       "    </tr>\n",
       "    <tr>\n",
       "      <th>1600</th>\n",
       "      <td>24.71</td>\n",
       "    </tr>\n",
       "    <tr>\n",
       "      <th>1650</th>\n",
       "      <td>27.92</td>\n",
       "    </tr>\n",
       "    <tr>\n",
       "      <th>1800</th>\n",
       "      <td>13.84</td>\n",
       "    </tr>\n",
       "    <tr>\n",
       "      <th>2000</th>\n",
       "      <td>25.88</td>\n",
       "    </tr>\n",
       "    <tr>\n",
       "      <th>2200</th>\n",
       "      <td>14.18</td>\n",
       "    </tr>\n",
       "    <tr>\n",
       "      <th>2400</th>\n",
       "      <td>25.55</td>\n",
       "    </tr>\n",
       "  </tbody>\n",
       "</table>\n",
       "</div>"
      ],
      "text/plain": [
       "          time1\n",
       "distance       \n",
       "1000      13.05\n",
       "1200      23.84\n",
       "1400      13.61\n",
       "1600      24.71\n",
       "1650      27.92\n",
       "1800      13.84\n",
       "2000      25.88\n",
       "2200      14.18\n",
       "2400      25.55"
      ]
     },
     "execution_count": 62,
     "metadata": {},
     "output_type": "execute_result"
    }
   ],
   "source": [
    "pd.pivot_table(race, index=['distance'], values=['time1'], aggfunc=np.median)"
   ]
  },
  {
   "cell_type": "code",
   "execution_count": 74,
   "metadata": {
    "collapsed": false
   },
   "outputs": [
    {
     "data": {
      "text/plain": [
       "1       70.39\n",
       "3       68.89\n",
       "5       69.20\n",
       "9       70.19\n",
       "12      70.41\n",
       "17      70.00\n",
       "21      69.73\n",
       "25      69.40\n",
       "30      71.00\n",
       "34      70.48\n",
       "36      69.67\n",
       "38      69.97\n",
       "42      69.01\n",
       "43      69.59\n",
       "44      69.72\n",
       "60      70.29\n",
       "61      69.42\n",
       "64      69.42\n",
       "69      70.77\n",
       "71      69.95\n",
       "74      70.49\n",
       "76      70.46\n",
       "77      70.46\n",
       "79      69.53\n",
       "82      69.31\n",
       "86      70.64\n",
       "88      71.13\n",
       "91      70.28\n",
       "95      70.32\n",
       "100     70.72\n",
       "        ...  \n",
       "6263    70.83\n",
       "6264    70.04\n",
       "6266    69.47\n",
       "6273    69.29\n",
       "6275    70.67\n",
       "6277    71.02\n",
       "6282    69.76\n",
       "6284    69.75\n",
       "6290    68.26\n",
       "6292    69.40\n",
       "6295    70.78\n",
       "6296    70.95\n",
       "6300    70.54\n",
       "6304    69.46\n",
       "6305    69.14\n",
       "6308    68.69\n",
       "6312    70.65\n",
       "6314    70.47\n",
       "6315    70.04\n",
       "6317    70.28\n",
       "6319    69.83\n",
       "6320    69.02\n",
       "6322    69.49\n",
       "6323    68.62\n",
       "6329    68.44\n",
       "6332    69.84\n",
       "6335    70.67\n",
       "6339    69.41\n",
       "6343    68.80\n",
       "6347    69.16\n",
       "Name: time3, dtype: float64"
      ]
     },
     "execution_count": 74,
     "metadata": {},
     "output_type": "execute_result"
    }
   ],
   "source": [
    "race[race['distance']==1200]['time3']"
   ]
  },
  {
   "cell_type": "code",
   "execution_count": 84,
   "metadata": {
    "collapsed": false
   },
   "outputs": [
    {
     "data": {
      "text/html": [
       "<div>\n",
       "<table border=\"1\" class=\"dataframe\">\n",
       "  <thead>\n",
       "    <tr>\n",
       "      <th></th>\n",
       "      <th>mean</th>\n",
       "      <th>median</th>\n",
       "      <th>sum</th>\n",
       "    </tr>\n",
       "    <tr>\n",
       "      <th></th>\n",
       "      <th>win_dividend1</th>\n",
       "      <th>win_dividend1</th>\n",
       "      <th>win_dividend1</th>\n",
       "    </tr>\n",
       "    <tr>\n",
       "      <th>distance</th>\n",
       "      <th></th>\n",
       "      <th></th>\n",
       "      <th></th>\n",
       "    </tr>\n",
       "  </thead>\n",
       "  <tbody>\n",
       "    <tr>\n",
       "      <th>1000</th>\n",
       "      <td>86.691261</td>\n",
       "      <td>52.25</td>\n",
       "      <td>60510.5</td>\n",
       "    </tr>\n",
       "    <tr>\n",
       "      <th>1200</th>\n",
       "      <td>88.497273</td>\n",
       "      <td>54.50</td>\n",
       "      <td>178499.0</td>\n",
       "    </tr>\n",
       "    <tr>\n",
       "      <th>1400</th>\n",
       "      <td>104.771970</td>\n",
       "      <td>57.00</td>\n",
       "      <td>113258.5</td>\n",
       "    </tr>\n",
       "    <tr>\n",
       "      <th>1600</th>\n",
       "      <td>107.219780</td>\n",
       "      <td>59.00</td>\n",
       "      <td>68299.0</td>\n",
       "    </tr>\n",
       "    <tr>\n",
       "      <th>1650</th>\n",
       "      <td>100.037900</td>\n",
       "      <td>65.00</td>\n",
       "      <td>109541.5</td>\n",
       "    </tr>\n",
       "    <tr>\n",
       "      <th>1800</th>\n",
       "      <td>101.079796</td>\n",
       "      <td>63.50</td>\n",
       "      <td>59536.0</td>\n",
       "    </tr>\n",
       "    <tr>\n",
       "      <th>2000</th>\n",
       "      <td>82.213675</td>\n",
       "      <td>57.00</td>\n",
       "      <td>9619.0</td>\n",
       "    </tr>\n",
       "    <tr>\n",
       "      <th>2200</th>\n",
       "      <td>96.005556</td>\n",
       "      <td>71.00</td>\n",
       "      <td>8640.5</td>\n",
       "    </tr>\n",
       "    <tr>\n",
       "      <th>2400</th>\n",
       "      <td>88.620000</td>\n",
       "      <td>67.00</td>\n",
       "      <td>2215.5</td>\n",
       "    </tr>\n",
       "  </tbody>\n",
       "</table>\n",
       "</div>"
      ],
      "text/plain": [
       "                  mean        median           sum\n",
       "         win_dividend1 win_dividend1 win_dividend1\n",
       "distance                                          \n",
       "1000         86.691261         52.25       60510.5\n",
       "1200         88.497273         54.50      178499.0\n",
       "1400        104.771970         57.00      113258.5\n",
       "1600        107.219780         59.00       68299.0\n",
       "1650        100.037900         65.00      109541.5\n",
       "1800        101.079796         63.50       59536.0\n",
       "2000         82.213675         57.00        9619.0\n",
       "2200         96.005556         71.00        8640.5\n",
       "2400         88.620000         67.00        2215.5"
      ]
     },
     "execution_count": 84,
     "metadata": {},
     "output_type": "execute_result"
    }
   ],
   "source": [
    "pd.pivot_table(race, index=['distance'], values=['win_dividend1'], aggfunc=[np.mean,np.median,np.sum])"
   ]
  },
  {
   "cell_type": "code",
   "execution_count": 80,
   "metadata": {
    "collapsed": false
   },
   "outputs": [
    {
     "data": {
      "text/plain": [
       "<matplotlib.axes._subplots.AxesSubplot at 0x117b21e90>"
      ]
     },
     "execution_count": 80,
     "metadata": {},
     "output_type": "execute_result"
    },
    {
     "data": {
      "image/png": "[encoded data removed]",
      "text/plain": [
       "<matplotlib.figure.Figure at 0x118b82590>"
      ]
     },
     "metadata": {},
     "output_type": "display_data"
    }
   ],
   "source": [
    "race[race['win_dividend1']<1000]['win_dividend1'].hist()"
   ]
  },
  {
   "cell_type": "code",
   "execution_count": 81,
   "metadata": {
    "collapsed": false
   },
   "outputs": [
    {
     "data": {
      "text/plain": [
       "195.59999999999991"
      ]
     },
     "execution_count": 81,
     "metadata": {},
     "output_type": "execute_result"
    }
   ],
   "source": [
    "np.percentile(race['win_dividend1'],90)"
   ]
  },
  {
   "cell_type": "code",
   "execution_count": null,
   "metadata": {
    "collapsed": true
   },
   "outputs": [],
   "source": []
  }
 ],
 "metadata": {
  "kernelspec": {
   "display_name": "Python 2",
   "language": "python",
   "name": "python2"
  },
  "language_info": {
   "codemirror_mode": {
    "name": "ipython",
    "version": 2
   },
   "file_extension": ".py",
   "mimetype": "text/x-python",
   "name": "python",
   "nbconvert_exporter": "python",
   "pygments_lexer": "ipython2",
   "version": "2.7.12"
  }
 },
 "nbformat": 4,
 "nbformat_minor": 0
}
