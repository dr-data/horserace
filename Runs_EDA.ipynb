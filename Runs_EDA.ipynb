{
 "cells": [
  {
   "cell_type": "code",
   "execution_count": 1,
   "metadata": {
    "collapsed": false
   },
   "outputs": [
    {
     "data": {
      "text/html": [
       "<div>\n",
       "<table border=\"1\" class=\"dataframe\">\n",
       "  <thead>\n",
       "    <tr style=\"text-align: right;\">\n",
       "      <th></th>\n",
       "      <th>race_id</th>\n",
       "      <th>horse_no</th>\n",
       "      <th>horse_id</th>\n",
       "      <th>result</th>\n",
       "      <th>won</th>\n",
       "      <th>lengths_behind</th>\n",
       "      <th>horse_age</th>\n",
       "      <th>horse_country</th>\n",
       "      <th>horse_type</th>\n",
       "      <th>horse_rating</th>\n",
       "      <th>...</th>\n",
       "      <th>time2</th>\n",
       "      <th>time3</th>\n",
       "      <th>time4</th>\n",
       "      <th>time5</th>\n",
       "      <th>time6</th>\n",
       "      <th>finish_time</th>\n",
       "      <th>win_odds</th>\n",
       "      <th>place_odds</th>\n",
       "      <th>trainer_id</th>\n",
       "      <th>jockey_id</th>\n",
       "    </tr>\n",
       "  </thead>\n",
       "  <tbody>\n",
       "    <tr>\n",
       "      <th>0</th>\n",
       "      <td>0</td>\n",
       "      <td>1</td>\n",
       "      <td>3917</td>\n",
       "      <td>10</td>\n",
       "      <td>0.0</td>\n",
       "      <td>8.00</td>\n",
       "      <td>3</td>\n",
       "      <td>AUS</td>\n",
       "      <td>Gelding</td>\n",
       "      <td>60</td>\n",
       "      <td>...</td>\n",
       "      <td>21.59</td>\n",
       "      <td>23.86</td>\n",
       "      <td>24.62</td>\n",
       "      <td>NaN</td>\n",
       "      <td>NaN</td>\n",
       "      <td>83.92</td>\n",
       "      <td>9.7</td>\n",
       "      <td>3.7</td>\n",
       "      <td>118</td>\n",
       "      <td>2</td>\n",
       "    </tr>\n",
       "    <tr>\n",
       "      <th>1</th>\n",
       "      <td>0</td>\n",
       "      <td>2</td>\n",
       "      <td>2157</td>\n",
       "      <td>8</td>\n",
       "      <td>0.0</td>\n",
       "      <td>5.75</td>\n",
       "      <td>3</td>\n",
       "      <td>NZ</td>\n",
       "      <td>Gelding</td>\n",
       "      <td>60</td>\n",
       "      <td>...</td>\n",
       "      <td>21.99</td>\n",
       "      <td>23.30</td>\n",
       "      <td>23.70</td>\n",
       "      <td>NaN</td>\n",
       "      <td>NaN</td>\n",
       "      <td>83.56</td>\n",
       "      <td>16.0</td>\n",
       "      <td>4.9</td>\n",
       "      <td>164</td>\n",
       "      <td>57</td>\n",
       "    </tr>\n",
       "  </tbody>\n",
       "</table>\n",
       "<p>2 rows × 37 columns</p>\n",
       "</div>"
      ],
      "text/plain": [
       "   race_id  horse_no  horse_id  result  won  lengths_behind  horse_age  \\\n",
       "0        0         1      3917      10  0.0            8.00          3   \n",
       "1        0         2      2157       8  0.0            5.75          3   \n",
       "\n",
       "  horse_country horse_type  horse_rating    ...      time2  time3  time4  \\\n",
       "0           AUS    Gelding            60    ...      21.59  23.86  24.62   \n",
       "1            NZ    Gelding            60    ...      21.99  23.30  23.70   \n",
       "\n",
       "   time5  time6  finish_time  win_odds  place_odds  trainer_id  jockey_id  \n",
       "0    NaN    NaN        83.92       9.7         3.7         118          2  \n",
       "1    NaN    NaN        83.56      16.0         4.9         164         57  \n",
       "\n",
       "[2 rows x 37 columns]"
      ]
     },
     "execution_count": 1,
     "metadata": {},
     "output_type": "execute_result"
    }
   ],
   "source": [
    "import pandas as pd\n",
    "import numpy as np\n",
    "import matplotlib.pyplot as plt\n",
    "import seaborn as sns\n",
    "%matplotlib inline\n",
    "\n",
    "run = pd.read_csv('runs.csv')\n",
    "run.head(2)"
   ]
  },
  {
   "cell_type": "code",
   "execution_count": 2,
   "metadata": {
    "collapsed": false
   },
   "outputs": [
    {
     "name": "stdout",
     "output_type": "stream",
     "text": [
      "<class 'pandas.core.frame.DataFrame'>\n",
      "RangeIndex: 79447 entries, 0 to 79446\n",
      "Data columns (total 37 columns):\n",
      "race_id            79447 non-null int64\n",
      "horse_no           79447 non-null int64\n",
      "horse_id           79447 non-null int64\n",
      "result             79447 non-null int64\n",
      "won                79447 non-null float64\n",
      "lengths_behind     79447 non-null float64\n",
      "horse_age          79447 non-null int64\n",
      "horse_country      79445 non-null object\n",
      "horse_type         79445 non-null object\n",
      "horse_rating       79447 non-null int64\n",
      "horse_gear         79447 non-null object\n",
      "declared_weight    79447 non-null float64\n",
      "actual_weight      79447 non-null int64\n",
      "draw               79447 non-null int64\n",
      "position_sec1      79447 non-null int64\n",
      "position_sec2      79447 non-null int64\n",
      "position_sec3      79447 non-null int64\n",
      "position_sec4      46226 non-null float64\n",
      "position_sec5      10079 non-null float64\n",
      "position_sec6      1296 non-null float64\n",
      "behind_sec1        79447 non-null float64\n",
      "behind_sec2        79447 non-null float64\n",
      "behind_sec3        79447 non-null float64\n",
      "behind_sec4        46226 non-null float64\n",
      "behind_sec5        10079 non-null float64\n",
      "behind_sec6        1296 non-null float64\n",
      "time1              79447 non-null float64\n",
      "time2              79447 non-null float64\n",
      "time3              79447 non-null float64\n",
      "time4              46226 non-null float64\n",
      "time5              10079 non-null float64\n",
      "time6              1296 non-null float64\n",
      "finish_time        79447 non-null float64\n",
      "win_odds           79447 non-null float64\n",
      "place_odds         75712 non-null float64\n",
      "trainer_id         79447 non-null int64\n",
      "jockey_id          79447 non-null int64\n",
      "dtypes: float64(21), int64(13), object(3)\n",
      "memory usage: 22.4+ MB\n"
     ]
    }
   ],
   "source": [
    "run.info()"
   ]
  },
  {
   "cell_type": "code",
   "execution_count": 6,
   "metadata": {
    "collapsed": false
   },
   "outputs": [
    {
     "data": {
      "image/png": "[encoded data removed]",
      "text/plain": [
       "<matplotlib.figure.Figure at 0x1176c26d0>"
      ]
     },
     "metadata": {},
     "output_type": "display_data"
    }
   ],
   "source": [
    "pd.pivot_table(run, index=['race_id'], values=['horse_no'], aggfunc='count').hist(bins=np.linspace(3.5,14.5,12))\n",
    "plt.show()"
   ]
  },
  {
   "cell_type": "code",
   "execution_count": null,
   "metadata": {
    "collapsed": true
   },
   "outputs": [],
   "source": []
  }
 ],
 "metadata": {
  "kernelspec": {
   "display_name": "Python 2",
   "language": "python",
   "name": "python2"
  },
  "language_info": {
   "codemirror_mode": {
    "name": "ipython",
    "version": 2
   },
   "file_extension": ".py",
   "mimetype": "text/x-python",
   "name": "python",
   "nbconvert_exporter": "python",
   "pygments_lexer": "ipython2",
   "version": "2.7.12"
  }
 },
 "nbformat": 4,
 "nbformat_minor": 0
}
